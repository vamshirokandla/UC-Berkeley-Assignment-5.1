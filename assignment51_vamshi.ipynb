{
 "cells": [
  {
   "cell_type": "markdown",
   "metadata": {
    "id": "CcUT6Fon_qRE"
   },
   "source": [
    "### Required Assignment 5.1: Will the Customer Accept the Coupon?\n",
    "\n",
    "**Context**\n",
    "\n",
    "Imagine driving through town and a coupon is delivered to your cell phone for a restaurant near where you are driving. Would you accept that coupon and take a short detour to the restaurant? Would you accept the coupon but use it on a subsequent trip? Would you ignore the coupon entirely? What if the coupon was for a bar instead of a restaurant? What about a coffee house? Would you accept a bar coupon with a minor passenger in the car? What about if it was just you and your partner in the car? Would weather impact the rate of acceptance? What about the time of day?\n",
    "\n",
    "Obviously, proximity to the business is a factor on whether the coupon is delivered to the driver or not, but what are the factors that determine whether a driver accepts the coupon once it is delivered to them? How would you determine whether a driver is likely to accept a coupon?\n",
    "\n",
    "**Overview**\n",
    "\n",
    "The goal of this project is to use what you know about visualizations and probability distributions to distinguish between customers who accepted a driving coupon versus those that did not.\n",
    "\n",
    "**Data**\n",
    "\n",
    "This data comes to us from the UCI Machine Learning repository and was collected via a survey on Amazon Mechanical Turk. The survey describes different driving scenarios including the destination, current time, weather, passenger, etc., and then ask the person whether he will accept the coupon if he is the driver. Answers that the user will drive there ‘right away’ or ‘later before the coupon expires’ are labeled as ‘Y = 1’ and answers ‘no, I do not want the coupon’ are labeled as ‘Y = 0’.  There are five different types of coupons -- less expensive restaurants (under \\$20), coffee houses, carry out & take away, bar, and more expensive restaurants (\\$20 - $50)."
   ]
  },
  {
   "cell_type": "markdown",
   "metadata": {
    "id": "1wORvMBJ_qRF"
   },
   "source": [
    "**Deliverables**\n",
    "\n",
    "Your final product should be a brief report that highlights the differences between customers who did and did not accept the coupons.  To explore the data you will utilize your knowledge of plotting, statistical summaries, and visualization using Python. You will publish your findings in a public facing github repository as your first portfolio piece.\n",
    "\n",
    "\n",
    "\n"
   ]
  },
  {
   "cell_type": "markdown",
   "metadata": {
    "id": "pG6_Ym6q_qRG"
   },
   "source": [
    "### Data Description\n",
    "Keep in mind that these values mentioned below are average values.\n",
    "\n",
    "The attributes of this data set include:\n",
    "1. User attributes\n",
    "    -  Gender: male, female\n",
    "    -  Age: below 21, 21 to 25, 26 to 30, etc.\n",
    "    -  Marital Status: single, married partner, unmarried partner, or widowed\n",
    "    -  Number of children: 0, 1, or more than 1\n",
    "    -  Education: high school, bachelors degree, associates degree, or graduate degree\n",
    "    -  Occupation: architecture & engineering, business & financial, etc.\n",
    "    -  Annual income: less than \\\\$12500, \\\\$12500 - \\\\$24999, \\\\$25000 - \\\\$37499, etc.\n",
    "    -  Number of times that he/she goes to a bar: 0, less than 1, 1 to 3, 4 to 8 or greater than 8\n",
    "    -  Number of times that he/she buys takeaway food: 0, less than 1, 1 to 3, 4 to 8 or greater\n",
    "    than 8\n",
    "    -  Number of times that he/she goes to a coffee house: 0, less than 1, 1 to 3, 4 to 8 or\n",
    "    greater than 8\n",
    "    -  Number of times that he/she eats at a restaurant with average expense less than \\\\$20 per\n",
    "    person: 0, less than 1, 1 to 3, 4 to 8 or greater than 8\n",
    "    -  Number of times that he/she goes to a bar: 0, less than 1, 1 to 3, 4 to 8 or greater than 8\n",
    "    \n",
    "\n",
    "2. Contextual attributes\n",
    "    - Driving destination: home, work, or no urgent destination\n",
    "    - Location of user, coupon and destination: we provide a map to show the geographical\n",
    "    location of the user, destination, and the venue, and we mark the distance between each\n",
    "    two places with time of driving. The user can see whether the venue is in the same\n",
    "    direction as the destination.\n",
    "    - Weather: sunny, rainy, or snowy\n",
    "    - Temperature: 30F, 55F, or 80F\n",
    "    - Time: 10AM, 2PM, or 6PM\n",
    "    - Passenger: alone, partner, kid(s), or friend(s)\n",
    "\n",
    "\n",
    "3. Coupon attributes\n",
    "    - time before it expires: 2 hours or one day"
   ]
  },
  {
   "cell_type": "code",
   "execution_count": 4,
   "metadata": {
    "id": "dzNoP3o__qRG"
   },
   "outputs": [],
   "source": [
    "import matplotlib.pyplot as plt\n",
    "import seaborn as sns\n",
    "import pandas as pd\n",
    "import numpy as np"
   ]
  },
  {
   "cell_type": "markdown",
   "metadata": {
    "id": "Ct8pI1uE_qRG"
   },
   "source": [
    "### Problems\n",
    "\n",
    "Use the prompts below to get started with your data analysis.  \n",
    "\n",
    "1. Read in the `coupons.csv` file.\n",
    "\n",
    "\n"
   ]
  },
  {
   "cell_type": "code",
   "execution_count": 5,
   "metadata": {
    "id": "X0vbffYg_qRH"
   },
   "outputs": [],
   "source": [
    "data = pd.read_csv('data/coupons.csv')"
   ]
  },
  {
   "cell_type": "code",
   "execution_count": 6,
   "metadata": {
    "id": "TXofQ_DF_qRH",
    "outputId": "2fc96a2c-1112-4b54-f24f-dbb9bc88abfb"
   },
   "outputs": [
    {
     "data": {
      "text/html": [
       "<div>\n",
       "<style scoped>\n",
       "    .dataframe tbody tr th:only-of-type {\n",
       "        vertical-align: middle;\n",
       "    }\n",
       "\n",
       "    .dataframe tbody tr th {\n",
       "        vertical-align: top;\n",
       "    }\n",
       "\n",
       "    .dataframe thead th {\n",
       "        text-align: right;\n",
       "    }\n",
       "</style>\n",
       "<table border=\"1\" class=\"dataframe\">\n",
       "  <thead>\n",
       "    <tr style=\"text-align: right;\">\n",
       "      <th></th>\n",
       "      <th>destination</th>\n",
       "      <th>passanger</th>\n",
       "      <th>weather</th>\n",
       "      <th>temperature</th>\n",
       "      <th>time</th>\n",
       "      <th>coupon</th>\n",
       "      <th>expiration</th>\n",
       "      <th>gender</th>\n",
       "      <th>age</th>\n",
       "      <th>maritalStatus</th>\n",
       "      <th>...</th>\n",
       "      <th>CoffeeHouse</th>\n",
       "      <th>CarryAway</th>\n",
       "      <th>RestaurantLessThan20</th>\n",
       "      <th>Restaurant20To50</th>\n",
       "      <th>toCoupon_GEQ5min</th>\n",
       "      <th>toCoupon_GEQ15min</th>\n",
       "      <th>toCoupon_GEQ25min</th>\n",
       "      <th>direction_same</th>\n",
       "      <th>direction_opp</th>\n",
       "      <th>Y</th>\n",
       "    </tr>\n",
       "  </thead>\n",
       "  <tbody>\n",
       "    <tr>\n",
       "      <th>0</th>\n",
       "      <td>No Urgent Place</td>\n",
       "      <td>Alone</td>\n",
       "      <td>Sunny</td>\n",
       "      <td>55</td>\n",
       "      <td>2PM</td>\n",
       "      <td>Restaurant(&lt;20)</td>\n",
       "      <td>1d</td>\n",
       "      <td>Female</td>\n",
       "      <td>21</td>\n",
       "      <td>Unmarried partner</td>\n",
       "      <td>...</td>\n",
       "      <td>never</td>\n",
       "      <td>NaN</td>\n",
       "      <td>4~8</td>\n",
       "      <td>1~3</td>\n",
       "      <td>1</td>\n",
       "      <td>0</td>\n",
       "      <td>0</td>\n",
       "      <td>0</td>\n",
       "      <td>1</td>\n",
       "      <td>1</td>\n",
       "    </tr>\n",
       "    <tr>\n",
       "      <th>1</th>\n",
       "      <td>No Urgent Place</td>\n",
       "      <td>Friend(s)</td>\n",
       "      <td>Sunny</td>\n",
       "      <td>80</td>\n",
       "      <td>10AM</td>\n",
       "      <td>Coffee House</td>\n",
       "      <td>2h</td>\n",
       "      <td>Female</td>\n",
       "      <td>21</td>\n",
       "      <td>Unmarried partner</td>\n",
       "      <td>...</td>\n",
       "      <td>never</td>\n",
       "      <td>NaN</td>\n",
       "      <td>4~8</td>\n",
       "      <td>1~3</td>\n",
       "      <td>1</td>\n",
       "      <td>0</td>\n",
       "      <td>0</td>\n",
       "      <td>0</td>\n",
       "      <td>1</td>\n",
       "      <td>0</td>\n",
       "    </tr>\n",
       "    <tr>\n",
       "      <th>2</th>\n",
       "      <td>No Urgent Place</td>\n",
       "      <td>Friend(s)</td>\n",
       "      <td>Sunny</td>\n",
       "      <td>80</td>\n",
       "      <td>10AM</td>\n",
       "      <td>Carry out &amp; Take away</td>\n",
       "      <td>2h</td>\n",
       "      <td>Female</td>\n",
       "      <td>21</td>\n",
       "      <td>Unmarried partner</td>\n",
       "      <td>...</td>\n",
       "      <td>never</td>\n",
       "      <td>NaN</td>\n",
       "      <td>4~8</td>\n",
       "      <td>1~3</td>\n",
       "      <td>1</td>\n",
       "      <td>1</td>\n",
       "      <td>0</td>\n",
       "      <td>0</td>\n",
       "      <td>1</td>\n",
       "      <td>1</td>\n",
       "    </tr>\n",
       "    <tr>\n",
       "      <th>3</th>\n",
       "      <td>No Urgent Place</td>\n",
       "      <td>Friend(s)</td>\n",
       "      <td>Sunny</td>\n",
       "      <td>80</td>\n",
       "      <td>2PM</td>\n",
       "      <td>Coffee House</td>\n",
       "      <td>2h</td>\n",
       "      <td>Female</td>\n",
       "      <td>21</td>\n",
       "      <td>Unmarried partner</td>\n",
       "      <td>...</td>\n",
       "      <td>never</td>\n",
       "      <td>NaN</td>\n",
       "      <td>4~8</td>\n",
       "      <td>1~3</td>\n",
       "      <td>1</td>\n",
       "      <td>1</td>\n",
       "      <td>0</td>\n",
       "      <td>0</td>\n",
       "      <td>1</td>\n",
       "      <td>0</td>\n",
       "    </tr>\n",
       "    <tr>\n",
       "      <th>4</th>\n",
       "      <td>No Urgent Place</td>\n",
       "      <td>Friend(s)</td>\n",
       "      <td>Sunny</td>\n",
       "      <td>80</td>\n",
       "      <td>2PM</td>\n",
       "      <td>Coffee House</td>\n",
       "      <td>1d</td>\n",
       "      <td>Female</td>\n",
       "      <td>21</td>\n",
       "      <td>Unmarried partner</td>\n",
       "      <td>...</td>\n",
       "      <td>never</td>\n",
       "      <td>NaN</td>\n",
       "      <td>4~8</td>\n",
       "      <td>1~3</td>\n",
       "      <td>1</td>\n",
       "      <td>1</td>\n",
       "      <td>0</td>\n",
       "      <td>0</td>\n",
       "      <td>1</td>\n",
       "      <td>0</td>\n",
       "    </tr>\n",
       "  </tbody>\n",
       "</table>\n",
       "<p>5 rows × 26 columns</p>\n",
       "</div>"
      ],
      "text/plain": [
       "       destination  passanger weather  temperature  time  \\\n",
       "0  No Urgent Place      Alone   Sunny           55   2PM   \n",
       "1  No Urgent Place  Friend(s)   Sunny           80  10AM   \n",
       "2  No Urgent Place  Friend(s)   Sunny           80  10AM   \n",
       "3  No Urgent Place  Friend(s)   Sunny           80   2PM   \n",
       "4  No Urgent Place  Friend(s)   Sunny           80   2PM   \n",
       "\n",
       "                  coupon expiration  gender age      maritalStatus  ...  \\\n",
       "0        Restaurant(<20)         1d  Female  21  Unmarried partner  ...   \n",
       "1           Coffee House         2h  Female  21  Unmarried partner  ...   \n",
       "2  Carry out & Take away         2h  Female  21  Unmarried partner  ...   \n",
       "3           Coffee House         2h  Female  21  Unmarried partner  ...   \n",
       "4           Coffee House         1d  Female  21  Unmarried partner  ...   \n",
       "\n",
       "   CoffeeHouse CarryAway RestaurantLessThan20 Restaurant20To50  \\\n",
       "0        never       NaN                  4~8              1~3   \n",
       "1        never       NaN                  4~8              1~3   \n",
       "2        never       NaN                  4~8              1~3   \n",
       "3        never       NaN                  4~8              1~3   \n",
       "4        never       NaN                  4~8              1~3   \n",
       "\n",
       "  toCoupon_GEQ5min toCoupon_GEQ15min toCoupon_GEQ25min direction_same  \\\n",
       "0                1                 0                 0              0   \n",
       "1                1                 0                 0              0   \n",
       "2                1                 1                 0              0   \n",
       "3                1                 1                 0              0   \n",
       "4                1                 1                 0              0   \n",
       "\n",
       "  direction_opp  Y  \n",
       "0             1  1  \n",
       "1             1  0  \n",
       "2             1  1  \n",
       "3             1  0  \n",
       "4             1  0  \n",
       "\n",
       "[5 rows x 26 columns]"
      ]
     },
     "execution_count": 6,
     "metadata": {},
     "output_type": "execute_result"
    }
   ],
   "source": [
    "data.head()"
   ]
  },
  {
   "cell_type": "markdown",
   "metadata": {
    "id": "GcDs78ZH_qRH"
   },
   "source": [
    "2. Investigate the dataset for missing or problematic data."
   ]
  },
  {
   "cell_type": "code",
   "execution_count": 36,
   "metadata": {
    "id": "6CwL6oWj_qRH"
   },
   "outputs": [
    {
     "name": "stdout",
     "output_type": "stream",
     "text": [
      "<class 'pandas.core.frame.DataFrame'>\n",
      "RangeIndex: 12684 entries, 0 to 12683\n",
      "Data columns (total 26 columns):\n",
      " #   Column                Non-Null Count  Dtype \n",
      "---  ------                --------------  ----- \n",
      " 0   destination           12684 non-null  object\n",
      " 1   passanger             12684 non-null  object\n",
      " 2   weather               12684 non-null  object\n",
      " 3   temperature           12684 non-null  int64 \n",
      " 4   time                  12684 non-null  object\n",
      " 5   coupon                12684 non-null  object\n",
      " 6   expiration            12684 non-null  object\n",
      " 7   gender                12684 non-null  object\n",
      " 8   age                   12684 non-null  object\n",
      " 9   maritalStatus         12684 non-null  object\n",
      " 10  has_children          12684 non-null  int64 \n",
      " 11  education             12684 non-null  object\n",
      " 12  occupation            12684 non-null  object\n",
      " 13  income                12684 non-null  object\n",
      " 14  car                   108 non-null    object\n",
      " 15  Bar                   12577 non-null  object\n",
      " 16  CoffeeHouse           12467 non-null  object\n",
      " 17  CarryAway             12533 non-null  object\n",
      " 18  RestaurantLessThan20  12554 non-null  object\n",
      " 19  Restaurant20To50      12495 non-null  object\n",
      " 20  toCoupon_GEQ5min      12684 non-null  int64 \n",
      " 21  toCoupon_GEQ15min     12684 non-null  int64 \n",
      " 22  toCoupon_GEQ25min     12684 non-null  int64 \n",
      " 23  direction_same        12684 non-null  int64 \n",
      " 24  direction_opp         12684 non-null  int64 \n",
      " 25  Y                     12684 non-null  int64 \n",
      "dtypes: int64(8), object(18)\n",
      "memory usage: 2.5+ MB\n",
      " Columns with missing values:\n",
      "                  Column  MissingCount\n",
      "0                   car     99.148534\n",
      "1           CoffeeHouse      1.710817\n",
      "2      Restaurant20To50      1.490066\n",
      "3             CarryAway      1.190476\n",
      "4  RestaurantLessThan20      1.024913\n",
      "5                   Bar      0.843582\n"
     ]
    },
    {
     "data": {
      "image/png": "[encoded data removed]",
      "text/plain": [
       "<Figure size 1000x600 with 1 Axes>"
      ]
     },
     "metadata": {},
     "output_type": "display_data"
    }
   ],
   "source": [
    "# Information about the columns in the dataset\n",
    "data.info()\n",
    "# check the columns with missing values (null)\n",
    "null_values = data.isnull().mean() * 100\n",
    "columns_null_values = null_values[null_values>0].sort_values(ascending=False)\n",
    "\n",
    "columns_null_values_df = columns_null_values.reset_index()\n",
    "columns_null_values_df.columns = ['Column', 'MissingCount']\n",
    "\n",
    "print(f' Columns with missing values:\\n {columns_null_values_df}')\n",
    "\n",
    "plt.figure(figsize=(10, 6))\n",
    "# sns.barplot(x=columns_null_values.index, y=columns_null_values.values,hue='x',  palette=\"viridis\", legend=False)\n",
    "sns.barplot(\n",
    "    data=columns_null_values_df,\n",
    "    x='Column',\n",
    "    y='MissingCount',\n",
    "    hue='MissingCount',      \n",
    "    palette='viridis',\n",
    "    legend=False             \n",
    ")\n",
    "# plt.yscale('log')\n",
    "plt.title(\"Columns with % of missing values\", fontsize=14)\n",
    "plt.ylabel(\"% of null Values\")\n",
    "plt.xlabel(\"Column Name\")\n",
    "plt.tight_layout()\n",
    "plt.show()"
   ]
  },
  {
   "cell_type": "markdown",
   "metadata": {
    "id": "bSdVSpYB_qRH"
   },
   "source": [
    "3. Decide what to do about your missing data -- drop, replace, other..."
   ]
  },
  {
   "cell_type": "code",
   "execution_count": 32,
   "metadata": {
    "id": "tyvoAC5F_qRI"
   },
   "outputs": [
    {
     "name": "stdout",
     "output_type": "stream",
     "text": [
      "<class 'pandas.core.frame.DataFrame'>\n",
      "RangeIndex: 12684 entries, 0 to 12683\n",
      "Data columns (total 25 columns):\n",
      " #   Column                Non-Null Count  Dtype \n",
      "---  ------                --------------  ----- \n",
      " 0   destination           12684 non-null  object\n",
      " 1   passanger             12684 non-null  object\n",
      " 2   weather               12684 non-null  object\n",
      " 3   temperature           12684 non-null  int64 \n",
      " 4   time                  12684 non-null  object\n",
      " 5   coupon                12684 non-null  object\n",
      " 6   expiration            12684 non-null  object\n",
      " 7   gender                12684 non-null  object\n",
      " 8   age                   12684 non-null  object\n",
      " 9   maritalStatus         12684 non-null  object\n",
      " 10  has_children          12684 non-null  int64 \n",
      " 11  education             12684 non-null  object\n",
      " 12  occupation            12684 non-null  object\n",
      " 13  income                12684 non-null  object\n",
      " 14  Bar                   12577 non-null  object\n",
      " 15  CoffeeHouse           12467 non-null  object\n",
      " 16  CarryAway             12533 non-null  object\n",
      " 17  RestaurantLessThan20  12554 non-null  object\n",
      " 18  Restaurant20To50      12495 non-null  object\n",
      " 19  toCoupon_GEQ5min      12684 non-null  int64 \n",
      " 20  toCoupon_GEQ15min     12684 non-null  int64 \n",
      " 21  toCoupon_GEQ25min     12684 non-null  int64 \n",
      " 22  direction_same        12684 non-null  int64 \n",
      " 23  direction_opp         12684 non-null  int64 \n",
      " 24  Y                     12684 non-null  int64 \n",
      "dtypes: int64(8), object(17)\n",
      "memory usage: 2.4+ MB\n",
      "Number of columns with null values0\n"
     ]
    }
   ],
   "source": [
    "#  nearly 98% of the values for the column car are null , remove that column from the data set.\n",
    "clean_data = data.drop(columns=['car'])\n",
    "# total nummber of columns should be 24 now\n",
    "clean_data.info()\n",
    "#  replace nul with UNKNOWN\n",
    "clean_data = clean_data.fillna('UNKNOWN')\n",
    "clean_data.head()\n",
    "print(f'Number of columns with null values{np.sum(clean_data.isnull().sum())}')"
   ]
  },
  {
   "cell_type": "markdown",
   "metadata": {
    "id": "YE6oJbXd_qRI"
   },
   "source": [
    "4. What proportion of the total observations chose to accept the coupon?\n",
    "\n"
   ]
  },
  {
   "cell_type": "code",
   "execution_count": 39,
   "metadata": {
    "id": "86GGqBTv_qRI"
   },
   "outputs": [
    {
     "name": "stdout",
     "output_type": "stream",
     "text": [
      " Coupon acceptance rate: 56.84\n"
     ]
    }
   ],
   "source": [
    "# calculate the % for the colummn Y\n",
    "coupon_accept_rate = clean_data['Y'].mean()*100\n",
    "print(f' Coupon acceptance rate: {coupon_accept_rate:.2f}')"
   ]
  },
  {
   "cell_type": "markdown",
   "metadata": {
    "id": "vflz0DoE_qRI"
   },
   "source": [
    "5. Use a bar plot to visualize the `coupon` column."
   ]
  },
  {
   "cell_type": "code",
   "execution_count": 47,
   "metadata": {
    "id": "dHFh3E45_qRI"
   },
   "outputs": [
    {
     "name": "stdout",
     "output_type": "stream",
     "text": [
      "coupons counts:\n",
      "                  coupon  count\n",
      "0           Coffee House   3996\n",
      "1        Restaurant(<20)   2786\n",
      "2  Carry out & Take away   2393\n",
      "3                    Bar   2017\n",
      "4      Restaurant(20-50)   1492\n"
     ]
    },
    {
     "data": {
      "image/png": "[encoded data removed]",
      "text/plain": [
       "<Figure size 1000x600 with 1 Axes>"
      ]
     },
     "metadata": {},
     "output_type": "display_data"
    }
   ],
   "source": [
    "# check the coupons data\n",
    "coupons_df = clean_data['coupon'].value_counts().reset_index()\n",
    "coupons_df.columns = ['coupon', 'count']\n",
    "coupons_df = coupons_df.sort_values('count',ascending=False)\n",
    "print(f'coupons counts:\\n{coupons_df}')\n",
    "\n",
    "plt.figure(figsize=(10, 6))\n",
    "\n",
    "sns.barplot(\n",
    "    data=coupons_df,\n",
    "    x='coupon',\n",
    "    y='count',\n",
    "    hue='count',      \n",
    "    palette='viridis',\n",
    "    legend=False             \n",
    ")\n",
    "# plt.yscale('log')\n",
    "plt.title(\" Coupons data\", fontsize=14)\n",
    "plt.ylabel(\"Count\")\n",
    "plt.xlabel(\"Coupon Type\")\n",
    "plt.tight_layout()\n",
    "plt.show()"
   ]
  },
  {
   "cell_type": "markdown",
   "metadata": {
    "id": "Qw4lCyx2_qRI"
   },
   "source": [
    "6. Use a histogram to visualize the temperature column."
   ]
  },
  {
   "cell_type": "code",
   "execution_count": 50,
   "metadata": {
    "id": "Yg9Anv71_qRI"
   },
   "outputs": [
    {
     "data": {
      "image/png": "[encoded data removed]",
      "text/plain": [
       "<Figure size 600x400 with 1 Axes>"
      ]
     },
     "metadata": {},
     "output_type": "display_data"
    }
   ],
   "source": [
    "# Histogram of temperature\n",
    "plt.figure(figsize=(6, 4))\n",
    "\n",
    "sns.histplot(\n",
    "    data=clean_data['temperature'],\n",
    "    bins=10,\n",
    "    kde=True\n",
    ")\n",
    "\n",
    "plt.title(\" Distrubution of temparature during the survey \", fontsize=14)\n",
    "plt.ylabel(\"Frequency\")\n",
    "plt.xlabel(\"Temperature (°F)\", fontsize=12)\n",
    "plt.tight_layout()\n",
    "plt.show()"
   ]
  },
  {
   "cell_type": "markdown",
   "metadata": {
    "id": "FupfgeJk_qRJ"
   },
   "source": [
    "**Investigating the Bar Coupons**\n",
    "\n",
    "Now, we will lead you through an exploration of just the bar related coupons.  \n",
    "\n",
    "1. Create a new `DataFrame` that contains just the bar coupons.\n"
   ]
  },
  {
   "cell_type": "code",
   "execution_count": 65,
   "metadata": {
    "id": "tMBlWuGq_qRJ"
   },
   "outputs": [
    {
     "name": "stdout",
     "output_type": "stream",
     "text": [
      " bar coupons data:(2017, 26)\n"
     ]
    },
    {
     "data": {
      "text/html": [
       "<div>\n",
       "<style scoped>\n",
       "    .dataframe tbody tr th:only-of-type {\n",
       "        vertical-align: middle;\n",
       "    }\n",
       "\n",
       "    .dataframe tbody tr th {\n",
       "        vertical-align: top;\n",
       "    }\n",
       "\n",
       "    .dataframe thead th {\n",
       "        text-align: right;\n",
       "    }\n",
       "</style>\n",
       "<table border=\"1\" class=\"dataframe\">\n",
       "  <thead>\n",
       "    <tr style=\"text-align: right;\">\n",
       "      <th></th>\n",
       "      <th>destination</th>\n",
       "      <th>passanger</th>\n",
       "      <th>weather</th>\n",
       "      <th>temperature</th>\n",
       "      <th>time</th>\n",
       "      <th>coupon</th>\n",
       "      <th>expiration</th>\n",
       "      <th>gender</th>\n",
       "      <th>age</th>\n",
       "      <th>maritalStatus</th>\n",
       "      <th>...</th>\n",
       "      <th>CoffeeHouse</th>\n",
       "      <th>CarryAway</th>\n",
       "      <th>RestaurantLessThan20</th>\n",
       "      <th>Restaurant20To50</th>\n",
       "      <th>toCoupon_GEQ5min</th>\n",
       "      <th>toCoupon_GEQ15min</th>\n",
       "      <th>toCoupon_GEQ25min</th>\n",
       "      <th>direction_same</th>\n",
       "      <th>direction_opp</th>\n",
       "      <th>Y</th>\n",
       "    </tr>\n",
       "  </thead>\n",
       "  <tbody>\n",
       "    <tr>\n",
       "      <th>9</th>\n",
       "      <td>No Urgent Place</td>\n",
       "      <td>Kid(s)</td>\n",
       "      <td>Sunny</td>\n",
       "      <td>80</td>\n",
       "      <td>10AM</td>\n",
       "      <td>Bar</td>\n",
       "      <td>1d</td>\n",
       "      <td>Female</td>\n",
       "      <td>21</td>\n",
       "      <td>Unmarried partner</td>\n",
       "      <td>...</td>\n",
       "      <td>never</td>\n",
       "      <td>NaN</td>\n",
       "      <td>4~8</td>\n",
       "      <td>1~3</td>\n",
       "      <td>1</td>\n",
       "      <td>1</td>\n",
       "      <td>0</td>\n",
       "      <td>0</td>\n",
       "      <td>1</td>\n",
       "      <td>0</td>\n",
       "    </tr>\n",
       "    <tr>\n",
       "      <th>13</th>\n",
       "      <td>Home</td>\n",
       "      <td>Alone</td>\n",
       "      <td>Sunny</td>\n",
       "      <td>55</td>\n",
       "      <td>6PM</td>\n",
       "      <td>Bar</td>\n",
       "      <td>1d</td>\n",
       "      <td>Female</td>\n",
       "      <td>21</td>\n",
       "      <td>Unmarried partner</td>\n",
       "      <td>...</td>\n",
       "      <td>never</td>\n",
       "      <td>NaN</td>\n",
       "      <td>4~8</td>\n",
       "      <td>1~3</td>\n",
       "      <td>1</td>\n",
       "      <td>0</td>\n",
       "      <td>0</td>\n",
       "      <td>1</td>\n",
       "      <td>0</td>\n",
       "      <td>1</td>\n",
       "    </tr>\n",
       "    <tr>\n",
       "      <th>17</th>\n",
       "      <td>Work</td>\n",
       "      <td>Alone</td>\n",
       "      <td>Sunny</td>\n",
       "      <td>55</td>\n",
       "      <td>7AM</td>\n",
       "      <td>Bar</td>\n",
       "      <td>1d</td>\n",
       "      <td>Female</td>\n",
       "      <td>21</td>\n",
       "      <td>Unmarried partner</td>\n",
       "      <td>...</td>\n",
       "      <td>never</td>\n",
       "      <td>NaN</td>\n",
       "      <td>4~8</td>\n",
       "      <td>1~3</td>\n",
       "      <td>1</td>\n",
       "      <td>1</td>\n",
       "      <td>1</td>\n",
       "      <td>0</td>\n",
       "      <td>1</td>\n",
       "      <td>0</td>\n",
       "    </tr>\n",
       "    <tr>\n",
       "      <th>24</th>\n",
       "      <td>No Urgent Place</td>\n",
       "      <td>Friend(s)</td>\n",
       "      <td>Sunny</td>\n",
       "      <td>80</td>\n",
       "      <td>10AM</td>\n",
       "      <td>Bar</td>\n",
       "      <td>1d</td>\n",
       "      <td>Male</td>\n",
       "      <td>21</td>\n",
       "      <td>Single</td>\n",
       "      <td>...</td>\n",
       "      <td>less1</td>\n",
       "      <td>4~8</td>\n",
       "      <td>4~8</td>\n",
       "      <td>less1</td>\n",
       "      <td>1</td>\n",
       "      <td>0</td>\n",
       "      <td>0</td>\n",
       "      <td>0</td>\n",
       "      <td>1</td>\n",
       "      <td>1</td>\n",
       "    </tr>\n",
       "    <tr>\n",
       "      <th>35</th>\n",
       "      <td>Home</td>\n",
       "      <td>Alone</td>\n",
       "      <td>Sunny</td>\n",
       "      <td>55</td>\n",
       "      <td>6PM</td>\n",
       "      <td>Bar</td>\n",
       "      <td>1d</td>\n",
       "      <td>Male</td>\n",
       "      <td>21</td>\n",
       "      <td>Single</td>\n",
       "      <td>...</td>\n",
       "      <td>less1</td>\n",
       "      <td>4~8</td>\n",
       "      <td>4~8</td>\n",
       "      <td>less1</td>\n",
       "      <td>1</td>\n",
       "      <td>0</td>\n",
       "      <td>0</td>\n",
       "      <td>1</td>\n",
       "      <td>0</td>\n",
       "      <td>1</td>\n",
       "    </tr>\n",
       "  </tbody>\n",
       "</table>\n",
       "<p>5 rows × 26 columns</p>\n",
       "</div>"
      ],
      "text/plain": [
       "        destination  passanger weather  temperature  time coupon expiration  \\\n",
       "9   No Urgent Place     Kid(s)   Sunny           80  10AM    Bar         1d   \n",
       "13             Home      Alone   Sunny           55   6PM    Bar         1d   \n",
       "17             Work      Alone   Sunny           55   7AM    Bar         1d   \n",
       "24  No Urgent Place  Friend(s)   Sunny           80  10AM    Bar         1d   \n",
       "35             Home      Alone   Sunny           55   6PM    Bar         1d   \n",
       "\n",
       "    gender age      maritalStatus  ...  CoffeeHouse CarryAway  \\\n",
       "9   Female  21  Unmarried partner  ...        never       NaN   \n",
       "13  Female  21  Unmarried partner  ...        never       NaN   \n",
       "17  Female  21  Unmarried partner  ...        never       NaN   \n",
       "24    Male  21             Single  ...        less1       4~8   \n",
       "35    Male  21             Single  ...        less1       4~8   \n",
       "\n",
       "   RestaurantLessThan20 Restaurant20To50 toCoupon_GEQ5min toCoupon_GEQ15min  \\\n",
       "9                   4~8              1~3                1                 1   \n",
       "13                  4~8              1~3                1                 0   \n",
       "17                  4~8              1~3                1                 1   \n",
       "24                  4~8            less1                1                 0   \n",
       "35                  4~8            less1                1                 0   \n",
       "\n",
       "   toCoupon_GEQ25min direction_same direction_opp  Y  \n",
       "9                  0              0             1  0  \n",
       "13                 0              1             0  1  \n",
       "17                 1              0             1  0  \n",
       "24                 0              0             1  1  \n",
       "35                 0              1             0  1  \n",
       "\n",
       "[5 rows x 26 columns]"
      ]
     },
     "execution_count": 65,
     "metadata": {},
     "output_type": "execute_result"
    }
   ],
   "source": [
    "bar_coupons_df = data[data['coupon']=='Bar']\n",
    "print(f' bar coupons data:{bar_coupons_df.shape}')\n",
    "bar_coupons_df.head()"
   ]
  },
  {
   "cell_type": "markdown",
   "metadata": {
    "id": "8ue6uCqf_qRJ"
   },
   "source": [
    "2. What proportion of bar coupons were accepted?\n"
   ]
  },
  {
   "cell_type": "code",
   "execution_count": 58,
   "metadata": {
    "id": "hSdte8Mi_qRK"
   },
   "outputs": [
    {
     "name": "stdout",
     "output_type": "stream",
     "text": [
      " Bar coupon acceptance rate:41.00\n"
     ]
    }
   ],
   "source": [
    "bar_coupon_accptance_rate = bar_coupons_df['Y'].mean()*100\n",
    "print(f' Bar coupon acceptance rate:{bar_coupon_accptance_rate:.2f}')"
   ]
  },
  {
   "cell_type": "markdown",
   "metadata": {
    "id": "85nA_iEi_qRK"
   },
   "source": [
    "3. Compare the acceptance rate between those who went to a bar 3 or fewer times a month to those who went more.\n"
   ]
  },
  {
   "cell_type": "code",
   "execution_count": 83,
   "metadata": {
    "id": "LBOrN-XM_qRK"
   },
   "outputs": [
    {
     "name": "stdout",
     "output_type": "stream",
     "text": [
      " Bar visit values:['never' 'less1' '1~3' 'gt8' nan '4~8']\n",
      " Coupon acceptance rate of people with 3 or fewer bar visits:37.06%\n",
      " Coupon acceptance rate of people with more than 3 bar visits:76.88%\n"
     ]
    }
   ],
   "source": [
    "print(f' Bar visit values:{bar_coupons_df['Bar'].unique()}')\n",
    "#  bar visits more than 3\n",
    "bar_more_than_3 = bar_coupons_df[bar_coupons_df['Bar'].isin(['gt8', '4~8'])]\n",
    "#  bar visist less than or equal to 3\n",
    "bar_less_than_3 = bar_coupons_df[bar_coupons_df['Bar'].isin(['never','less1','1~3' ])]\n",
    "\n",
    "# calclulate acceptance rate\n",
    "accept_rate_bar_visits_lte_3 =  bar_less_than_3['Y'].mean() * 100\n",
    "accept_rate_bar_visits_gt_3 =  bar_more_than_3['Y'].mean() * 100\n",
    "\n",
    "print(f' Coupon acceptance rate of people with 3 or fewer bar visits:{accept_rate_bar_visits_lte_3:.2f}%')\n",
    "print(f' Coupon acceptance rate of people with more than 3 bar visits:{accept_rate_bar_visits_gt_3:.2f}%')\n"
   ]
  },
  {
   "cell_type": "markdown",
   "metadata": {
    "id": "RBgcQwH4_qRK"
   },
   "source": [
    "4. Compare the acceptance rate between drivers who go to a bar more than once a month and are over the age of 25 to the all others.  Is there a difference?\n"
   ]
  },
  {
   "cell_type": "code",
   "execution_count": 104,
   "metadata": {
    "id": "bf28bbeX_qRK"
   },
   "outputs": [
    {
     "name": "stdout",
     "output_type": "stream",
     "text": [
      "age values:[21 46 26 31 41 50 36 20]\n",
      " Coupon acceptance rate for drivers who visit bar more than once and over the age of 25:69.52%\n",
      " Coupon acceptance rate for all other drivers with bar coupon:33.50%\n"
     ]
    },
    {
     "name": "stderr",
     "output_type": "stream",
     "text": [
      "/var/folders/hs/qx219h5x6rdfpczx1__xkxt80000gq/T/ipykernel_96006/3408342011.py:28: FutureWarning: \n",
      "\n",
      "Passing `palette` without assigning `hue` is deprecated and will be removed in v0.14.0. Assign the `x` variable to `hue` and set `legend=False` for the same effect.\n",
      "\n",
      "  sns.barplot(\n"
     ]
    },
    {
     "data": {
      "image/png": "[encoded data removed]",
      "text/plain": [
       "<Figure size 1000x600 with 1 Axes>"
      ]
     },
     "metadata": {},
     "output_type": "display_data"
    }
   ],
   "source": [
    "#  convert age vallues to numeric values\n",
    "print(f'age values:{bar_coupons_df['age'].unique()}')\n",
    "age_map = {'below21':20,\n",
    "           '21':21,\n",
    "           '26':26,\n",
    "           '31':31,           \n",
    "           '36':36,\n",
    "           '41':41,\n",
    "           '46':46 ,\n",
    "           '50plus':50}\n",
    "\n",
    "# filter the bar coupons data for the drivers who visist bar more than once \n",
    "bar_more_than_once = bar_coupons_df[bar_coupons_df['Bar'].isin(['1~3','gt8', '4~8' ])].copy()\n",
    "# convert the age to numeric values\n",
    "bar_more_than_once['age'] = bar_more_than_once['age'].replace(age_map).infer_objects(copy=False)\n",
    "# filter the drivers with age < 25\n",
    "over_25 = bar_more_than_once[(bar_more_than_once['age']>25) ]\n",
    "all_other = bar_coupons_df.drop(over_25.index)\n",
    "# calculate acceptance rate\n",
    "acceptance_rate_over25_more_than_once = over_25['Y'].mean()\n",
    "acceptance_rate_others = all_other['Y'].mean()\n",
    "\n",
    "print(f' Coupon acceptance rate for drivers who visit bar more than once and over the age of 25:{acceptance_rate_over25_more_than_once:.2%}')\n",
    "print(f' Coupon acceptance rate for all other drivers with bar coupon:{acceptance_rate_others:.2%}')\n",
    "\n",
    "plt.figure(figsize=(10, 6))\n",
    "\n",
    "sns.barplot(   \n",
    "    x=['bar>1 & age>25','All others'],\n",
    "    y=[acceptance_rate_over25_more_than_once, acceptance_rate_others],\n",
    "    palette='viridis'\n",
    ")\n",
    "# plt.yscale('log')\n",
    "plt.title(\" Coupon Acceptance Rate of Frq\", fontsize=14)\n",
    "plt.ylabel(\"Count\")\n",
    "plt.xlabel(\"Coupon Type\")\n",
    "plt.tight_layout()\n",
    "plt.show()\n",
    "\n"
   ]
  },
  {
   "cell_type": "markdown",
   "metadata": {
    "id": "S4RKT4PJ_qRK"
   },
   "source": [
    "5. Use the same process to compare the acceptance rate between drivers who go to bars more than once a month and had passengers that were not a kid and had occupations other than farming, fishing, or forestry.\n"
   ]
  },
  {
   "cell_type": "code",
   "execution_count": 116,
   "metadata": {
    "id": "sENaI2Tg_qRK"
   },
   "outputs": [
    {
     "name": "stdout",
     "output_type": "stream",
     "text": [
      "Acceptance rate for drivers who go to bars more than once, no kids passengers and non-Farming Fishing & Forestry occupation: 71.32%\n",
      "Acceptance rate for all other drivers with bar coupon: 29.60%\n"
     ]
    }
   ],
   "source": [
    "# filter the bar coupons data for the drivers who visist bar more than once \n",
    "bar_more_than_once = bar_coupons_df[bar_coupons_df['Bar'].isin(['1~3','gt8', '4~8' ])]\n",
    "# Filter passengers not a kid and occupation not farming, fishing, or forestry.\n",
    "filtered_group = bar_more_than_once[(bar_more_than_once['passanger'] != 'Kid(s)') & \n",
    "                                        ~(bar_more_than_once['occupation'].isin(['Farming Fishing & Forestry']))]\n",
    "\n",
    "all_other_group = bar_coupons_df.drop(filtered_group.index)\n",
    "acceptace_rate_group_1 =  filtered_group['Y'].mean() \n",
    "acceptace_rate_all_other_group = all_other_group['Y'].mean() \n",
    "\n",
    "print(f\"Acceptance rate for drivers who go to bars more than once, no kids passengers and non-Farming Fishing & Forestry occupation: {acceptace_rate_group_1:.2%}\")\n",
    "print(f\"Acceptance rate for all other drivers with bar coupon: {acceptace_rate_all_other_group:.2%}\")"
   ]
  },
  {
   "cell_type": "markdown",
   "metadata": {
    "id": "n2LIUTil_qRK"
   },
   "source": [
    "6. Compare the acceptance rates between those drivers who:\n",
    "\n",
    "- go to bars more than once a month, had passengers that were not a kid, and were not widowed *OR*\n",
    "- go to bars more than once a month and are under the age of 30 *OR*\n",
    "- go to cheap restaurants more than 4 times a month and income is less than 50K.\n",
    "\n"
   ]
  },
  {
   "cell_type": "code",
   "execution_count": 124,
   "metadata": {
    "id": "aK_wEzx7_qRK"
   },
   "outputs": [
    {
     "name": "stdout",
     "output_type": "stream",
     "text": [
      "age values:[21 46 26 31 41 50 36 20]\n",
      "Coupon acceptance rate: group1 (go to bars more than once a month, no kid passenger and were not widowed) : 71.32%\n",
      "Coupon acceptance rate: group1 (go to bars more than once a month and are under the age of 30 ) : 72.17%\n",
      "Coupon acceptance rate: group1 (go to cheap restaurants more than 4 times a month and income is less than 50K) : 45.35%\n"
     ]
    }
   ],
   "source": [
    "print(f'age values:{bar_coupons_df['age'].unique()}')\n",
    "age_map = {'below21':20,\n",
    "           '21':21,\n",
    "           '26':26,\n",
    "           '31':31,           \n",
    "           '36':36,\n",
    "           '41':41,\n",
    "           '46':46 ,\n",
    "           '50plus':50}\n",
    "bar_coupons_df_copy = bar_coupons_df.copy()\n",
    "# convert the age to numeric values\n",
    "bar_coupons_df_copy['age'] = bar_coupons_df_copy['age'].replace(age_map).infer_objects(copy=False)\n",
    "#  group with condition 1\n",
    "cond_1_group = bar_coupons_df_copy[ (bar_coupons_df_copy['Bar'].isin(['1~3','gt8', '4~8' ])) &\n",
    "                                    (bar_coupons_df_copy['passanger'] != 'Kid(s)') & \n",
    "                                    (bar_coupons_df_copy['maritalStatus'] != 'Widowed')]\n",
    "accept_rate_group_1 = cond_1_group['Y'].mean()\n",
    "\n",
    "#  group with condition 1\n",
    "cond_2_group = bar_coupons_df_copy[ (bar_coupons_df_copy['Bar'].isin(['1~3','gt8', '4~8' ])) &\n",
    "                                    (bar_coupons_df_copy['age'] < 30) ]\n",
    "accept_rate_group_2 = cond_2_group['Y'].mean()\n",
    "\n",
    "#  group with condition 3\n",
    "cond_3_group = bar_coupons_df_copy[ (bar_coupons_df_copy['RestaurantLessThan20'].isin(['gt8', '4~8' ])) &\n",
    "                                    ~(bar_coupons_df_copy['income'].isin(['$50000 - $62499', '$62500 - $74999', '$75000 - $87499', '$87500 - $99999', '$100000 or More'])) ]                                    \n",
    "\n",
    "accept_rate_group_3 = cond_3_group['Y'].mean()\n",
    "print(f'Coupon acceptance rate: group1 (go to bars more than once a month, no kid passenger and were not widowed) : {accept_rate_group_1:.2%}')\n",
    "print(f'Coupon acceptance rate: group1 (go to bars more than once a month and are under the age of 30 ) : {accept_rate_group_2:.2%}')\n",
    "print(f'Coupon acceptance rate: group1 (go to cheap restaurants more than 4 times a month and income is less than 50K) : {accept_rate_group_3:.2%}')"
   ]
  },
  {
   "cell_type": "markdown",
   "metadata": {
    "id": "v3fL3QkO_qRK"
   },
   "source": [
    "7.  Based on these observations, what do you hypothesize about drivers who accepted the bar coupons?"
   ]
  },
  {
   "cell_type": "code",
   "execution_count": 147,
   "metadata": {
    "id": "Y48naDFh_qRL"
   },
   "outputs": [
    {
     "name": "stdout",
     "output_type": "stream",
     "text": [
      "\n",
      "    Hypothesis:\n",
      "    Drivers who are ferquently visit the bars are more like to accept the bar coupons than others. \n",
      "    Other factors like age younger 30 , with out kid passenger, not widowed and higher income levels lead to higher acceptance rate of bar coupons.\n",
      "    Drivers with lower income and who frequent cheaper restaurents more unlikely to accept the bar coupons.    \n",
      "    \n"
     ]
    }
   ],
   "source": [
    "print(\n",
    "    \"\"\"\n",
    "    Hypothesis:\n",
    "    Drivers who are ferquently visit the bars are more like to accept the bar coupons than others. \n",
    "    Other factors like age younger 30 , with out kid passenger, not widowed and higher income levels lead to higher acceptance rate of bar coupons.\n",
    "    Drivers with lower income and who frequent cheaper restaurents more unlikely to accept the bar coupons.    \n",
    "    \"\"\")"
   ]
  },
  {
   "cell_type": "markdown",
   "metadata": {
    "id": "r4Hu1zOb_qRL"
   },
   "source": [
    "### Independent Investigation\n",
    "\n",
    "Using the bar coupon example as motivation, you are to explore one of the other coupon groups and try to determine the characteristics of passengers who accept the coupons.  "
   ]
  },
  {
   "cell_type": "code",
   "execution_count": 141,
   "metadata": {
    "id": "0c71cQhu_qRL"
   },
   "outputs": [
    {
     "name": "stdout",
     "output_type": "stream",
     "text": [
      " coffee coupons data:(3996, 26)\n",
      "Coffee House coupon acceptance rate: 49.92%\n"
     ]
    }
   ],
   "source": [
    "#  Coffe house coupons data analysis\n",
    "#  filter coffe house coupons\n",
    "coffe_coupons = data[data['coupon']=='Coffee House'].copy()\n",
    "print(f' coffee coupons data:{coffe_coupons.shape}')\n",
    "# Coffe house coupons acceptance rate\n",
    "coffee_coupons_accept_rate = coffe_coupons['Y'].mean()\n",
    "print(f\"Coffee House coupon acceptance rate: {coffee_coupons_accept_rate:.2%}\")"
   ]
  },
  {
   "cell_type": "code",
   "execution_count": 142,
   "metadata": {
    "id": "QEsBkvIN_qRL"
   },
   "outputs": [
    {
     "name": "stdout",
     "output_type": "stream",
     "text": [
      " coffe house visit values:['never' 'less1' '4~8' '1~3' 'gt8' nan]\n",
      "Acceptance rate by CoffeeHouse visit frequency:\n",
      " visit frequency vs acceptance:CoffeeHouse\n",
      "4~8      0.685874\n",
      "gt8      0.657895\n",
      "1~3      0.647793\n",
      "less1    0.481860\n",
      "never    0.188781\n",
      "Name: Y, dtype: float64\n"
     ]
    },
    {
     "data": {
      "image/png": "[encoded data removed]",
      "text/plain": [
       "<Figure size 800x400 with 1 Axes>"
      ]
     },
     "metadata": {},
     "output_type": "display_data"
    }
   ],
   "source": [
    "# Acceptancy rate based on coffe house visits\n",
    "print(f' coffe house visit values:{coffe_coupons['CoffeeHouse'].unique()}')\n",
    "coffe_visit_freq_accept_rate = coffe_coupons.groupby('CoffeeHouse')['Y'].mean().sort_values(ascending=False)\n",
    "print(\"Acceptance rate by CoffeeHouse visit frequency:\")\n",
    "print(f' visit frequency vs acceptance:{coffe_visit_freq_accept_rate}')\n",
    "\n",
    "plt.figure(figsize=(8, 4))\n",
    "sns.barplot(x=coffe_visit_freq_accept_rate.index, y=coffe_visit_freq_accept_rate.values, hue=coffe_visit_freq_accept_rate.index)\n",
    "plt.xticks(rotation=45, ha='right')\n",
    "plt.ylabel('Acceptance Rate')\n",
    "plt.title('Coffee House Visit Frequency vs Acceptance Rate')\n",
    "plt.tight_layout()\n",
    "plt.show()"
   ]
  },
  {
   "cell_type": "code",
   "execution_count": 144,
   "metadata": {
    "id": "fTC2WGE3_qRL"
   },
   "outputs": [
    {
     "name": "stdout",
     "output_type": "stream",
     "text": [
      "Acceptance rate by age:\n",
      " visit frequency vs acceptance:age\n",
      "below21    0.696774\n",
      "21         0.524349\n",
      "26         0.514828\n",
      "46         0.513636\n",
      "41         0.501538\n",
      "31         0.476726\n",
      "36         0.467662\n",
      "50plus     0.420183\n",
      "Name: Y, dtype: float64\n"
     ]
    },
    {
     "data": {
      "image/png": "[encoded data removed]",
      "text/plain": [
       "<Figure size 800x400 with 1 Axes>"
      ]
     },
     "metadata": {},
     "output_type": "display_data"
    }
   ],
   "source": [
    "# Acceptancy rate based on age\n",
    "coffe_visit_age_accept_rate = coffe_coupons.groupby('age')['Y'].mean().sort_values(ascending=False)\n",
    "print(\"Acceptance rate by age:\")\n",
    "print(f' visit frequency vs acceptance:{coffe_visit_age_accept_rate}')\n",
    "\n",
    "plt.figure(figsize=(8, 4))\n",
    "sns.barplot(x=coffe_visit_age_accept_rate.index, y=coffe_visit_age_accept_rate.values, hue=coffe_visit_age_accept_rate.values)\n",
    "plt.xticks(rotation=45, ha='right')\n",
    "plt.ylabel('Acceptance Rate')\n",
    "plt.title('Age vs Acceptance Rate')\n",
    "plt.tight_layout()\n",
    "plt.show()"
   ]
  },
  {
   "cell_type": "code",
   "execution_count": 145,
   "metadata": {
    "id": "RrqUWn7d_qRL"
   },
   "outputs": [
    {
     "name": "stdout",
     "output_type": "stream",
     "text": [
      "Acceptance rate by destination:\n",
      " visit frequency vs acceptance:destination\n",
      "No Urgent Place    0.580974\n",
      "Work               0.445783\n",
      "Home               0.362069\n",
      "Name: Y, dtype: float64\n"
     ]
    },
    {
     "data": {
      "image/png": "[encoded data removed]",
      "text/plain": [
       "<Figure size 800x400 with 1 Axes>"
      ]
     },
     "metadata": {},
     "output_type": "display_data"
    }
   ],
   "source": [
    "# Acceptancy rate by destination\n",
    "coffe_visit_dest_accept_rate = coffe_coupons.groupby('destination')['Y'].mean().sort_values(ascending=False)\n",
    "print(\"Acceptance rate by destination:\")\n",
    "print(f' visit frequency vs acceptance:{coffe_visit_dest_accept_rate}')\n",
    "\n",
    "plt.figure(figsize=(8, 4))\n",
    "sns.barplot(x=coffe_visit_dest_accept_rate.index, y=coffe_visit_dest_accept_rate.values, hue=coffe_visit_dest_accept_rate.values)\n",
    "plt.xticks(rotation=45, ha='right')\n",
    "plt.ylabel('Acceptance Rate')\n",
    "plt.title('Destination vs Acceptance Rate')\n",
    "plt.tight_layout()\n",
    "plt.show()"
   ]
  },
  {
   "cell_type": "code",
   "execution_count": 146,
   "metadata": {
    "id": "_oykf8YP_qRL"
   },
   "outputs": [
    {
     "name": "stdout",
     "output_type": "stream",
     "text": [
      "\n",
      "    From the analysis of coffe house coupon data:    \n",
      "    1. Drivers who visit coffe shop more frequently have higher acceptance rate..\n",
      "    2. Younger driver ( below 20) are more likely to accept the coupons than others.\n",
      "    3. Drivers with leisure destinations( non home/office) are more likely to accept the coupons.\n",
      "    \n"
     ]
    }
   ],
   "source": [
    "# Hypothesis\n",
    "print(\n",
    "    \"\"\"\n",
    "    From the analysis of coffe house coupon data:    \n",
    "    1. Drivers who visit coffe shop more frequently have higher acceptance rate..\n",
    "    2. Younger driver ( below 20) are more likely to accept the coupons than others.\n",
    "    3. Drivers with leisure destinations( non home/office) are more likely to accept the coupons.\n",
    "    \"\"\")"
   ]
  }
 ],
 "metadata": {
  "colab": {
   "provenance": []
  },
  "kernelspec": {
   "display_name": "Python [conda env:base] *",
   "language": "python",
   "name": "conda-base-py"
  },
  "language_info": {
   "codemirror_mode": {
    "name": "ipython",
    "version": 3
   },
   "file_extension": ".py",
   "mimetype": "text/x-python",
   "name": "python",
   "nbconvert_exporter": "python",
   "pygments_lexer": "ipython3",
   "version": "3.13.5"
  }
 },
 "nbformat": 4,
 "nbformat_minor": 4
}
